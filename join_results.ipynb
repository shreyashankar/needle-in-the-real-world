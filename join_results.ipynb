{
 "cells": [
  {
   "cell_type": "code",
   "execution_count": null,
   "metadata": {},
   "outputs": [],
   "source": [
    "%load_ext autoreload\n",
    "%autoreload 2"
   ]
  },
  {
   "cell_type": "code",
   "execution_count": null,
   "metadata": {},
   "outputs": [],
   "source": [
    "import pandas as pd"
   ]
  },
  {
   "cell_type": "code",
   "execution_count": null,
   "metadata": {},
   "outputs": [],
   "source": [
    "# Load all csvs in responses folder\n",
    "import os\n",
    "\n",
    "paths = []\n",
    "for root, dirs, files in os.walk(\"responses\"):\n",
    "    for file in files:\n",
    "        if file.endswith(\".csv\") and \"medical\" in file:\n",
    "            paths.append(os.path.join(root, file))\n",
    "\n",
    "dfs = []\n",
    "for path in paths:\n",
    "    df = pd.read_csv(path)\n",
    "    \n",
    "    df = df.dropna(axis=1, how=\"all\")\n",
    "    print(path)\n",
    "    print(df.columns)\n",
    "    \n",
    "    dfs.append(df)"
   ]
  },
  {
   "cell_type": "code",
   "execution_count": null,
   "metadata": {},
   "outputs": [],
   "source": [
    "# Join all dfs on question, id, summary, and transcript\n",
    "\n",
    "big_df = pd.merge(dfs[0], dfs[1], on=[\"question\", \"id\", \"summary\", \"transcript\"], how=\"outer\")\n",
    "for df in dfs[2:]:\n",
    "    big_df = pd.merge(big_df, df, on=[\"question\", \"id\", \"summary\", \"transcript\"], how=\"outer\")"
   ]
  },
  {
   "cell_type": "code",
   "execution_count": null,
   "metadata": {},
   "outputs": [],
   "source": [
    "# Rename openai_result column to gpt3.5_result and anthropic_result to sonnet_result\n",
    "\n",
    "big_df = big_df.rename(columns={\"openai_result\": \"gpt3.5_result\", \"anthropic_result\": \"sonnet_result\"})\n",
    "\n",
    "# Remove \"result\" from column names\n",
    "column_names = big_df.columns\n",
    "new_column_names = [name.replace(\"_result\", \"\") for name in column_names]\n",
    "big_df.columns = new_column_names\n",
    "\n",
    "big_df.head()"
   ]
  },
  {
   "cell_type": "code",
   "execution_count": null,
   "metadata": {},
   "outputs": [],
   "source": [
    "# Write to disk\n",
    "\n",
    "big_df.to_csv(\"responses/all.csv\", index=False)"
   ]
  },
  {
   "cell_type": "code",
   "execution_count": null,
   "metadata": {},
   "outputs": [],
   "source": [
    "# Load synthetic\n",
    "\n",
    "# Load all csvs in responses folder\n",
    "import os\n",
    "\n",
    "paths = []\n",
    "for root, dirs, files in os.walk(\"responses\"):\n",
    "    for file in files:\n",
    "        if file.endswith(\".csv\") and \"synthetic\" in file:\n",
    "            paths.append(os.path.join(root, file))\n",
    "\n",
    "dfs = []\n",
    "for path in paths:\n",
    "    df = pd.read_csv(path)\n",
    "    \n",
    "    df = df.dropna(axis=1, how=\"all\")\n",
    "    print(path)\n",
    "    print(df.columns)\n",
    "    \n",
    "    dfs.append(df)\n",
    "    \n",
    "big_df = pd.merge(dfs[0], dfs[1], on=[\"question\", \"id\", \"summary\", \"transcript\"], how=\"outer\")\n",
    "for df in dfs[2:]:\n",
    "    big_df = pd.merge(big_df, df, on=[\"question\", \"id\", \"summary\", \"transcript\"], how=\"outer\")\n",
    "    \n",
    "big_df = big_df.rename(columns={\"openai_result\": \"gpt3.5_result\", \"anthropic_result\": \"sonnet_result\"})\n",
    "\n",
    "# Remove \"result\" from column names\n",
    "column_names = big_df.columns\n",
    "new_column_names = [name.replace(\"_result\", \"\") for name in column_names]\n",
    "big_df.columns = new_column_names\n",
    "\n",
    "big_df.head()\n",
    "\n",
    "big_df.to_csv(\"responses/all_synthetic.csv\", index=False)"
   ]
  },
  {
   "cell_type": "code",
   "execution_count": null,
   "metadata": {},
   "outputs": [],
   "source": []
  }
 ],
 "metadata": {
  "kernelspec": {
   "display_name": "continual-llm-data",
   "language": "python",
   "name": "python3"
  },
  "language_info": {
   "codemirror_mode": {
    "name": "ipython",
    "version": 3
   },
   "file_extension": ".py",
   "mimetype": "text/x-python",
   "name": "python",
   "nbconvert_exporter": "python",
   "pygments_lexer": "ipython3",
   "version": "3.10.13"
  }
 },
 "nbformat": 4,
 "nbformat_minor": 2
}
